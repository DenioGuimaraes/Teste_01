{
  "nbformat": 4,
  "nbformat_minor": 0,
  "metadata": {
    "colab": {
      "provenance": [],
      "collapsed_sections": [],
      "authorship_tag": "ABX9TyMyOiGiOTQniLw4QuH/94J1",
      "include_colab_link": true
    },
    "kernelspec": {
      "name": "python3",
      "display_name": "Python 3"
    },
    "language_info": {
      "name": "python"
    }
  },
  "cells": [
    {
      "cell_type": "markdown",
      "metadata": {
        "id": "view-in-github",
        "colab_type": "text"
      },
      "source": [
        "<a href=\"https://colab.research.google.com/github/DenioGuimaraes/Teste_01/blob/main/Python_Funcional.ipynb\" target=\"_parent\"><img src=\"https://colab.research.google.com/assets/colab-badge.svg\" alt=\"Open In Colab\"/></a>"
      ]
    },
    {
      "cell_type": "code",
      "source": [
        "from functools import reduce\n",
        "somar = lambda x,y: x + y\n",
        "lista = [1, 2, 3, 4, 5, 6, 7, 8, 9, 10]\n",
        "total = reduce(somar, lista)\n",
        "print(total)"
      ],
      "metadata": {
        "colab": {
          "base_uri": "https://localhost:8080/"
        },
        "id": "bipKXdOJB_FC",
        "outputId": "e92132b3-b01c-496f-a1ed-d5f2bc0c9a3a"
      },
      "execution_count": 1,
      "outputs": [
        {
          "output_type": "stream",
          "name": "stdout",
          "text": [
            "55\n"
          ]
        }
      ]
    },
    {
      "cell_type": "code",
      "source": [
        "from functools import reduce\n",
        "somar = lambda x,y: x + y\n",
        "lista = [1, 2, 3, 4, 5, 6, 7, 8, 9, 10]\n",
        "total = reduce(somar, lista)\n",
        "print(total)"
      ],
      "metadata": {
        "id": "oPzsl8Vm_-GQ"
      },
      "execution_count": null,
      "outputs": []
    },
    {
      "cell_type": "code",
      "source": [
        "  #manipulação de listas\n",
        "  lista_numeros = [9.56783, 7.57568, 3.00914, 6.2321]\n",
        "  lista_precisao = [2, 2, 3, 4]\n",
        "\n",
        "  formatar = lambda x,y: round(x,y)\n",
        "  resultado = list(map(formatar, lista_numeros, lista_precisao))\n",
        "  print(resultado)\n"
      ],
      "metadata": {
        "colab": {
          "base_uri": "https://localhost:8080/"
        },
        "id": "KLCfj6089yfH",
        "outputId": "8aca0fd3-374f-4ed4-df9f-83d65638dca6"
      },
      "execution_count": null,
      "outputs": [
        {
          "output_type": "stream",
          "name": "stdout",
          "text": [
            "3.14159265\n",
            "[9.57, 7.58, 3.009, 6.2321]\n"
          ]
        }
      ]
    },
    {
      "cell_type": "code",
      "source": [
        "lista = [0, 1, 1, 2, 3, 5, 8, 13, 18, 21, 34]\n",
        "testa_par = lambda x: (x % 2) == 0\n",
        "pares = list(filter(testa_par, lista ))\n",
        "\n",
        "print(testa_par(5))\n",
        "print(pares)"
      ],
      "metadata": {
        "colab": {
          "base_uri": "https://localhost:8080/"
        },
        "id": "NX7IP9b-5Vmy",
        "outputId": "901b54f9-2304-49f5-a116-e70ca5707fe7"
      },
      "execution_count": null,
      "outputs": [
        {
          "output_type": "stream",
          "name": "stdout",
          "text": [
            "False\n",
            "[0, 2, 8, 18, 34]\n"
          ]
        }
      ]
    },
    {
      "cell_type": "code",
      "execution_count": null,
      "metadata": {
        "colab": {
          "base_uri": "https://localhost:8080/"
        },
        "id": "C9IB4Nxu16t8",
        "outputId": "c37fec00-efb5-4c2d-97e1-7e138e9e437f"
      },
      "outputs": [
        {
          "output_type": "stream",
          "name": "stdout",
          "text": [
            "Nomes maiúsculos: ['AVIAO', 'CARRO', 'NAVIO', 'ONIBUS']\n"
          ]
        }
      ],
      "source": [
        "veiculos = ['aviao', 'carro', 'navio', 'onibus']\n",
        "f_maiusculo = lambda x: str.upper(x)\n",
        "nova_lista = list(map(f_maiusculo, veiculos))\n",
        "print(f'Nomes maiúsculos: {nova_lista}')\n",
        "\n"
      ]
    }
  ]
}